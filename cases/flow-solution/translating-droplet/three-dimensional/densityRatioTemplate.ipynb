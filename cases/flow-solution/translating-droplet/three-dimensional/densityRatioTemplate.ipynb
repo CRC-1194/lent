{
 "cells": [
  {
   "cell_type": "code",
   "execution_count": null,
   "metadata": {},
   "outputs": [],
   "source": [
    "case_path = \"./\"\n",
    "study_name = \"densityRatioInfluence.parameter\""
   ]
  },
  {
   "cell_type": "code",
   "execution_count": null,
   "metadata": {},
   "outputs": [],
   "source": [
    "import pandas as pd\n",
    "import dataAgglomeration as datglom \n",
    "import matplotlib.pyplot as plt\n",
    "from matplotlib import rcParams\n",
    "from notebookPlotting  import plot_dframe\n",
    "\n",
    "rcParams[\"figure.dpi\"] = 300\n",
    "\n",
    "density_ratio_agglom  = datglom.data_agglomerator(study_name,\n",
    "                                                  \"stationaryDropletResults.csv\",\n",
    "                                                  case_path) \n",
    " \n",
    "density_ratio_df = density_ratio_agglom.study_dataframe() \n",
    "\n",
    "plotDict={\"x\" : \"time\", \"xsymb\" : r\"$t$\", \n",
    "          \"y\" : \"Linf velocity error\", \n",
    "          \"ysymb\" : r\"$L_\\infty(\\mathbf{v})$\",\n",
    "          \"resolution\" : r\"$N$\", \"rho_droplet\" : r\"$\\rho_1$\", \n",
    "          \"nu_droplet\" : r\"$\\nu_1$\"};\n",
    "plot_dframe(density_ratio_df, density_ratio_agglom,#case_path,study_name, \n",
    "        title=\"All density ratios\", \n",
    "        plotDict=plotDict, ncol=2)"
   ]
  }
 ],
 "metadata": {
  "kernelspec": {
   "display_name": "Python 3",
   "language": "python",
   "name": "python3"
  },
  "language_info": {
   "codemirror_mode": {
    "name": "ipython",
    "version": 3
   },
   "file_extension": ".py",
   "mimetype": "text/x-python",
   "name": "python",
   "nbconvert_exporter": "python",
   "pygments_lexer": "ipython3",
   "version": "3.8.10"
  }
 },
 "nbformat": 4,
 "nbformat_minor": 4
}

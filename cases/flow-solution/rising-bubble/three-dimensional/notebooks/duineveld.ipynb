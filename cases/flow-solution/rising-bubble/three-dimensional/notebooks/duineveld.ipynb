{
 "cells": [
  {
   "cell_type": "markdown",
   "metadata": {},
   "source": [
    "# Validation of the bubble shape and rise velocity (Duineveld 1996)\n",
    "\n",
    "{1} Duineveld, P. C. \"The rise velocity and shape of bubbles in pure water at high Reynolds number.\" Journal of Fluid Mechanics 292 (1995): 325-332.\n",
    "\n",
    "Comparison is done with Figure 1 (rise velocity)\n",
    "\n",
    "The parameter file for this notebook is \"duineveld.parameter\".\n",
    "\n",
    "Simulation parameters are also based on \n",
    "\n",
    "{2} Pesci, Chiara, et al. \"Computational analysis of single rising bubbles influenced by soluble surfactant.\" Journal of Fluid Mechanics 856 (2018): 709-763.\n",
    "\n",
    "Used radii:"
   ]
  },
  {
   "cell_type": "code",
   "execution_count": 11,
   "metadata": {},
   "outputs": [],
   "source": [
    "radii = [0.0035, 0.0045, 0.0055, 0.0065, 0.0075, 0.0085, 0.0095]"
   ]
  },
  {
   "cell_type": "markdown",
   "metadata": {},
   "source": [
    "Dimensionless time is given as\n",
    "\n",
    "\n",
    "\\begin{equation}\n",
    "  \\tilde{t} = \\dfrac{t}{\\sqrt{\\frac{d}{g}}} = \\dfrac{t}{\\sqrt{\\frac{2r}{g}}}\n",
    "\\end{equation}\n",
    "\n",
    "where $t$ is the physical time, $d$ is the diameter of the bubble, and $g$ is the graviational acceleration."
   ]
  },
  {
   "cell_type": "code",
   "execution_count": 2,
   "metadata": {},
   "outputs": [],
   "source": [
    "g = 9.81"
   ]
  },
  {
   "cell_type": "markdown",
   "metadata": {},
   "source": [
    "Dimensionless time is taken from Andre Weiner (unpublished work), comparison of rising bubble velocity in Basilisk with Figure 1 from {1}: \n",
    "\n",
    "![Basilisk rise velocity](water_05_rise_velocity_andreweiner_basilisk.png)"
   ]
  },
  {
   "cell_type": "markdown",
   "metadata": {},
   "source": [
    "**TODO**: \n",
    "\n",
    "* Estimat the t_end for the simulation time somehow. \n",
    "* Why is Andre comparing Re numbers and not the rise velocity, that is reported in the paper. \n",
    "* I haven't found any comparison without surfactant in Chiara's paper, we should check the dissertation and ask if we don't find anything there. \n",
    "\n",
    "\n",
    "Comparison with {1} should be based on Figure 1 from {1}: \n",
    "\n",
    "\n",
    "![Duineveld rise velocity](duineveld-1996-figure1.png)\n"
   ]
  },
  {
   "cell_type": "code",
   "execution_count": 7,
   "metadata": {},
   "outputs": [],
   "source": [
    "from math import sqrt\n",
    "def t_sim(t_tilde, radius, g=9.81):\n",
    "    return t_tilde * sqrt(2*radius / g)"
   ]
  },
  {
   "cell_type": "code",
   "execution_count": null,
   "metadata": {},
   "outputs": [],
   "source": []
  }
 ],
 "metadata": {
  "kernelspec": {
   "display_name": "Python 3",
   "language": "python",
   "name": "python3"
  },
  "language_info": {
   "codemirror_mode": {
    "name": "ipython",
    "version": 3
   },
   "file_extension": ".py",
   "mimetype": "text/x-python",
   "name": "python",
   "nbconvert_exporter": "python",
   "pygments_lexer": "ipython3",
   "version": "3.5.2"
  }
 },
 "nbformat": 4,
 "nbformat_minor": 2
}

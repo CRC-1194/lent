{
 "cells": [
  {
   "cell_type": "markdown",
   "metadata": {},
   "source": [
    "# Cell RBF interpolation test\n",
    "\n",
    "## Ellipsoid  \n",
    "\n",
    "This test case uses a sphere and an ellipsoid signed distances to test the rate of convergence of the RBF interpolation. \n",
    "\n",
    "The mesh density is kept constant for this test case, and the dimensions of the sphere/ellipsoid are changed to increase the relative resolution: number of cells per radius / minimal semi-axis. \n",
    "\n",
    "The number of cells used to resolve the main semi-axis $a$\n",
    "\n",
    "$N_a = \\dfrac{a N}{l}$ \n",
    "\n",
    "with the unit domain length $l=1$, \n",
    "\n",
    "$N_a = a N$ \n",
    "\n",
    "Because the ellipsoid used for testing the pressure-velocity coupling of the LENT method has semi-axes $(a, \\frac{2a}{3},\\frac{2a}{3})$, the smallest semi-axis is used for the calculation of the relative resolution for the ellipsoid\n",
    "\n",
    "$N_b = N_c = \\dfrac{2}{3} a N$\n",
    "\n",
    "To test the convergence, following relative resolutions were used $N_b = (4,8,16,32)$, that result with the following values for the $a$ semi-axis:\n",
    "\n",
    "$a = \\dfrac{3N_b}{2N}$\n",
    "\n",
    "\n",
    "The highest number of cells per semi axis used for the hydrodynamical cases is around 38 (10.2018. Tobias Tolle).\n",
    "\n",
    "The highest resolutions used for each oscillating droplet setup  \n",
    "\n",
    "- Francois2006: a=3, b=2, c=2, a/h=38.4 (paper: a/h=9.6)\n",
    "- Shin/Juric2002: a=1.025, b=c=0.9875, a/h=25.6 (paper: a/h=6.4)\n",
    "- Torres/Brackbill2000: a=4, b=3.5, c=3.8, a/h=25.6 (paper: a/h=6.4)\n",
    "\n",
    "$(a,b,c)$ are the lengths of the semi-axes in $x,y,z$ direction and h is the cell length of an equivalent Cartesian mesh."
   ]
  },
  {
   "cell_type": "code",
   "execution_count": 37,
   "metadata": {},
   "outputs": [
    {
     "name": "stdout",
     "output_type": "stream",
     "text": [
      "aSemiAxes =  [0.09375 0.1875  0.375   0.75   ]\n",
      "bcSemiAxes =  [0.0625 0.125  0.25   0.5   ]\n"
     ]
    }
   ],
   "source": [
    "import numpy as np\n",
    "N = 64 \n",
    "Nbs = [4, 8, 16, 32]\n",
    "aSemiAxes = np.array([(3. * Nb) / (2. * N) for Nb in Nbs])\n",
    "bcSemiAxes = 2.0 * aSemiAxes / 3.0\n",
    "\n",
    "print (\"aSemiAxes = \", aSemiAxes)\n",
    "print (\"bcSemiAxes = \", bcSemiAxes)"
   ]
  },
  {
   "cell_type": "markdown",
   "metadata": {},
   "source": [
    "## Sphere\n",
    "\n",
    "Like for the ellipsoid, the number of cells per radius is used\n",
    "\n",
    "The number of cells used to resolve the radius \n",
    "\n",
    "$N_r = \\dfrac{R N}{l}$ \n",
    "\n",
    "with the unit domain length $l=1$, \n",
    "\n",
    "$N_r = R N$ "
   ]
  },
  {
   "cell_type": "code",
   "execution_count": 36,
   "metadata": {},
   "outputs": [
    {
     "name": "stdout",
     "output_type": "stream",
     "text": [
      "[0.0625 0.125  0.25   0.5    1.    ]\n"
     ]
    }
   ],
   "source": [
    "N = 64. \n",
    "Nrs = [4, 8, 16, 32, 64]\n",
    "radii = np.array([Nr / N for Nr in Nrs])\n",
    "print (radii)"
   ]
  },
  {
   "cell_type": "code",
   "execution_count": null,
   "metadata": {},
   "outputs": [],
   "source": []
  }
 ],
 "metadata": {
  "kernelspec": {
   "display_name": "Python 3",
   "language": "python",
   "name": "python3"
  },
  "language_info": {
   "codemirror_mode": {
    "name": "ipython",
    "version": 3
   },
   "file_extension": ".py",
   "mimetype": "text/x-python",
   "name": "python",
   "nbconvert_exporter": "python",
   "pygments_lexer": "ipython3",
   "version": "3.7.4"
  }
 },
 "nbformat": 4,
 "nbformat_minor": 2
}

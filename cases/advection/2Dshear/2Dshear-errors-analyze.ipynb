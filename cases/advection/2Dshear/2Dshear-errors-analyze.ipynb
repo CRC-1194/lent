{
 "cells": [
  {
   "cell_type": "code",
   "execution_count": 7,
   "metadata": {
    "collapsed": false,
    "scrolled": true
   },
   "outputs": [
    {
     "name": "stdout",
     "output_type": "stream",
     "text": [
      "            Eg (32)  Eg (64) O (32) Eg (128) O (64) Eg (256) O (128)\n",
      "T   Method                                                          \n",
      "0.5 RK      7.29e−4  1.42e−4   2.36  3.90e−5   1.86        –       –\n",
      "    Stream  5.51e−4  1.10e−4   2.32  3.38e−5   1.71        –       –\n",
      "    EMFPA   4.45e−4  7.99e−5   2.48  2.04e−5   1.97        –       –\n",
      "    MZ      4.68e−4  6.91e−5   2.76  2.07e−5   1.74        –       –\n",
      "    GPCA    4.12e−4  7.32e−5   2.41  1.93e−5   1.93        –       –\n",
      "    CCU     3.20e−4  7.68e−5   2.06  1.32e−5   2.54  2.45e−6    2.43\n",
      "2.0 RK      2.36e−3  5.85e−4   2.01  1.31e−4   2.16        –       –\n",
      "    Stream  2.37e−3  5.65e−4   2.07  1.32e−4   2.10        –       –\n",
      "    EMFPA   2.14e−3  5.39e−4   1.99  1.29e−4   2.06        –       –\n",
      "    MZ      2.11e−3  5.28e−4   2.00  1.28e−4   2.05        –       –\n",
      "    GPCA    2.18e−3  5.32e−4   2.05  1.29e−4   2.03        –       –\n",
      "    CCU     1.86e−3  4.18e−4   2.15  9.62e−5   2.12  1.97e−5    2.29\n",
      "8.0 RK      4.78e−2  6.96e−3   2.78  1.44e−3   2.27        –       –\n",
      "    Stream  3.72e−2  6.79e−3   2.45  1.18e−3   2.52        –       –\n",
      "    EMFPA   3.77e−2  6.58e−3   2.52  1.07e−3   2.62  2.35e−4    2.19\n",
      "    MZ      5.42e−2  7.85e−3   2.79  1.05e−3   2.90        –       –\n",
      "    GPCA          –        –      –  1.17e−3      –        –       –\n",
      "    OD            –  7.58e−3      –  1.88e−3   2.01  4.04e−4    2.22\n",
      "    CCU     3.81e−2  4.58e−3   3.06  1.00e−3   2.20  1.78e−4    2.59\n",
      "\\begin{tabular}{llrrrrrr}\n",
      "\\toprule\n",
      "    &     &       Ev &  Eb &       Eg &  O(Eg) &       Te &       Tr \\\\\n",
      "T & N &          &     &          &        &          &          \\\\\n",
      "\\midrule\n",
      "0.5 & 32  & 3.68e-16 & 0.0 & 3.54e-04 &   2.10 & 1.93e-02 & 5.31e-03 \\\\\n",
      "    & 64  & 2.33e-15 & 0.0 & 8.28e-05 &   1.53 & 4.11e-02 & 1.18e-02 \\\\\n",
      "    & 128 & 6.63e-15 & 0.0 & 2.87e-05 &    - & 9.11e-02 & 2.52e-02 \\\\\n",
      "2.0 & 32  & 7.37e-16 & 0.0 & 1.74e-03 &   2.67 & 2.53e-02 & 7.34e-03 \\\\\n",
      "    & 64  & 4.67e-15 & 0.0 & 2.72e-04 &   1.93 & 5.34e-02 & 1.55e-02 \\\\\n",
      "    & 128 & 1.31e-14 & 0.0 & 7.13e-05 &    - &     0.11 & 3.22e-02 \\\\\n",
      "8.0 & 32  & 1.23e-15 & 0.0 & 3.61e-02 &   2.13 & 5.81e-02 & 1.77e-02 \\\\\n",
      "    & 64  & 5.16e-15 & 0.0 & 8.25e-03 &   2.10 &     0.13 & 4.13e-02 \\\\\n",
      "    & 128 & 1.57e-14 & 0.0 & 1.92e-03 &    - &     0.28 & 8.81e-02 \\\\\n",
      "\\bottomrule\n",
      "\\end{tabular}\n",
      "\n",
      "/home/tomislav/Documents/PhD/documents/thesis/tomislav-maric-phd-thesis/tables/voFoam-hex-shear2D-reconstructionDGNR-cellDisplacementTaylor-pointCellInterpolationIDW-fluxIntegrationTrapezoid-fluxCorrectionpyramid\n"
     ]
    }
   ],
   "source": [
    "# %load 2Dshear-errors-analyze.py\n",
    "\"\"\"\n",
    "\n",
    "Verification of the 2D shear (also called single 2D vortex) verification case. \n",
    "\n",
    "Publications: \n",
    "\n",
    "    Comminal, R., Spangenberg, J., & Hattel, J. H. (2015). Cellwise conservative unsplit advection \n",
    "    for the volume of fluid method. Journal of Computational Physics, 283, 582–608.\n",
    "\n",
    "\"\"\" \n",
    "\n",
    "from geomtransport_error import * \n",
    "\n",
    "def main(): \n",
    "    # Read the Table 2 data by Comminal et al. \n",
    "    comminalTable2Data = pd.read_csv(\"publication-data/Comminal2015T0T2.csv\", \n",
    "                                     skipinitialspace=True, index_col=[0,1]) \n",
    "    print(comminalTable2Data)\n",
    "    \n",
    "    #tablePath = os.environ[\"TABLE_PATH\"]\n",
    "    #comminalTableName = os.path.join(tablePath,\"shear2DCommminal.tex\")\n",
    "    #comminalTableFile = open(comminalTableName, \"w\") \n",
    "    #comminalTableFile.write(comminalTable2Data.to_latex())\n",
    "\n",
    "    templateCase = \"voFoam-hex-shear2D\"\n",
    "\n",
    "    # Reduce all dataFrames in all advectionErrors.dat files in all subdirectories.\n",
    "    data = reduce_dataframe(\"advectionErrors.dat\", templateCase)\n",
    "    \n",
    "    # Calculate and insert convergence columns \n",
    "    add_convergence(data)\n",
    "    \n",
    "    # En and O(En) are not needed for this test case in the thesis.\n",
    "    data.drop('CFL', axis=1, inplace=True)\n",
    "    data.drop('O(En)', axis=1, inplace=True)\n",
    "    data.drop('En', axis=1, inplace=True)\n",
    "    latexData = data.to_latex(float_format=scientific)\n",
    "    latexData = latexData.replace(\"nan\",'-')\n",
    "    \n",
    "    print(latexData)\n",
    "\n",
    "    tableFileName = table_file_name(templateCase) \n",
    "    \n",
    "    latexFile = open(tableFileName + \".tex\", \"w\")\n",
    "    latexFile.write(latexData)\n",
    "\n",
    "    csvFile = open(tableFileName + \".csv\", 'w')\n",
    "    csvFile.write(data.to_csv()) \n",
    "    \n",
    "if __name__==\"__main__\":\n",
    "    main()\n"
   ]
  },
  {
   "cell_type": "code",
   "execution_count": null,
   "metadata": {
    "collapsed": true
   },
   "outputs": [],
   "source": []
  },
  {
   "cell_type": "code",
   "execution_count": null,
   "metadata": {
    "collapsed": true
   },
   "outputs": [],
   "source": []
  }
 ],
 "metadata": {
  "kernelspec": {
   "display_name": "Python 3",
   "language": "python",
   "name": "python3"
  },
  "language_info": {
   "codemirror_mode": {
    "name": "ipython",
    "version": 3
   },
   "file_extension": ".py",
   "mimetype": "text/x-python",
   "name": "python",
   "nbconvert_exporter": "python",
   "pygments_lexer": "ipython3",
   "version": "3.5.2"
  }
 },
 "nbformat": 4,
 "nbformat_minor": 0
}
